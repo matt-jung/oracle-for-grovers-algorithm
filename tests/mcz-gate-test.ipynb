{
 "cells": [
  {
   "cell_type": "code",
   "execution_count": 25,
   "metadata": {},
   "outputs": [],
   "source": [
    "from qiskit import QuantumCircuit\n",
    "import random\n",
    "import math"
   ]
  },
  {
   "attachments": {},
   "cell_type": "markdown",
   "metadata": {},
   "source": [
    "using mcp gates, we can apply a phase shift of pi radians (i.e. a z gate) to a taget qubit with all other qubits acting as controls. This essentially creates an e.g. cccz gate"
   ]
  },
  {
   "cell_type": "code",
   "execution_count": 26,
   "metadata": {},
   "outputs": [
    {
     "data": {
      "image/png": "[encoded data removed]",
      "text/plain": [
       "<Figure size 146.797x385.28 with 1 Axes>"
      ]
     },
     "execution_count": 26,
     "metadata": {},
     "output_type": "execute_result"
    }
   ],
   "source": [
    "system_size=random.randint(2,10)\n",
    "qc=QuantumCircuit(system_size)\n",
    "control_qubits=[i for i in range(system_size-1)]\n",
    "target_qubit=system_size-1\n",
    "qc.mcp(math.pi,control_qubits,target_qubit)\n",
    "qc.draw('mpl')\n"
   ]
  }
 ],
 "metadata": {
  "kernelspec": {
   "display_name": "base",
   "language": "python",
   "name": "python3"
  },
  "language_info": {
   "codemirror_mode": {
    "name": "ipython",
    "version": 3
   },
   "file_extension": ".py",
   "mimetype": "text/x-python",
   "name": "python",
   "nbconvert_exporter": "python",
   "pygments_lexer": "ipython3",
   "version": "3.9.12"
  },
  "orig_nbformat": 4
 },
 "nbformat": 4,
 "nbformat_minor": 2
}
